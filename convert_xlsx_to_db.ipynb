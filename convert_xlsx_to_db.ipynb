{
 "cells": [
  {
   "cell_type": "code",
   "execution_count": 1,
   "metadata": {},
   "outputs": [],
   "source": [
    "import pandas as pd\n",
    "import sqlite3\n",
    "import os"
   ]
  },
  {
   "cell_type": "markdown",
   "metadata": {},
   "source": [
    "## Config"
   ]
  },
  {
   "cell_type": "code",
   "execution_count": 2,
   "metadata": {},
   "outputs": [],
   "source": [
    "year = '2024'"
   ]
  },
  {
   "cell_type": "code",
   "execution_count": 3,
   "metadata": {},
   "outputs": [],
   "source": [
    "col=[c[1] for c in sqlite3\n",
    "     .connect(f'stock_summary_{year}.sqlite')\n",
    "     .cursor()\n",
    "     .execute('PRAGMA table_info (stock_summary)')\n",
    "     .fetchall()]"
   ]
  },
  {
   "cell_type": "code",
   "execution_count": 4,
   "metadata": {},
   "outputs": [
    {
     "name": "stdout",
     "output_type": "stream",
     "text": [
      "['No', 'Stock Code', 'Remarks', 'Previous', 'Open Price', 'Last Trading Date', 'First Trade', 'High', 'Low', 'Close', 'Change', 'Volume', 'Value', 'Frequency', 'Index Individual', 'Offer', 'Offer Volume', 'Bid', 'Bid Volume', 'Listed Shares', 'Tradeble Shares', 'Weight For Index', 'Foreign Sell', 'Foreign Buy', 'Non Regular Volume', 'Non Regular Value', 'Non Regular Frequency']\n",
      "27\n"
     ]
    }
   ],
   "source": [
    "print(col)\n",
    "print(len(col))"
   ]
  },
  {
   "cell_type": "code",
   "execution_count": 5,
   "metadata": {},
   "outputs": [
    {
     "name": "stdout",
     "output_type": "stream",
     "text": [
      "Stock Summary-20240809.xlsx sukses\n",
      "Stock Summary-20240812.xlsx sukses\n",
      "Stock Summary-20240813.xlsx sukses\n",
      "Stock Summary-20240814.xlsx sukses\n",
      "Stock Summary-20240815.xlsx sukses\n",
      "Stock Summary-20240816.xlsx sukses\n",
      "Stock Summary-20240819.xlsx sukses\n",
      "Stock Summary-20240820.xlsx sukses\n",
      "Stock Summary-20240821.xlsx sukses\n",
      "Stock Summary-20240822.xlsx sukses\n",
      "Stock Summary-20240823.xlsx sukses\n",
      "Stock Summary-20240826.xlsx sukses\n",
      "Stock Summary-20240827.xlsx sukses\n",
      "Stock Summary-20240828.xlsx sukses\n",
      "Stock Summary-20240829.xlsx sukses\n",
      "Stock Summary-20240830.xlsx sukses\n",
      "Stock Summary-20240902.xlsx sukses\n",
      "Stock Summary-20240903.xlsx sukses\n",
      "Stock Summary-20240904.xlsx sukses\n",
      "Stock Summary-20240905.xlsx sukses\n",
      "Stock Summary-20240906.xlsx sukses\n",
      "Stock Summary-20240909.xlsx sukses\n",
      "Stock Summary-20240910.xlsx sukses\n",
      "Stock Summary-20240911.xlsx sukses\n",
      "Stock Summary-20240912.xlsx sukses\n",
      "Stock Summary-20240913.xlsx sukses\n",
      "Stock Summary-20240917.xlsx sukses\n",
      "Stock Summary-20240918.xlsx sukses\n",
      "Stock Summary-20240919.xlsx sukses\n",
      "Stock Summary-20240920.xlsx sukses\n",
      "Stock Summary-20240923.xlsx sukses\n",
      "Stock Summary-20240924.xlsx sukses\n",
      "Stock Summary-20240925.xlsx sukses\n",
      "Stock Summary-20240926.xlsx sukses\n",
      "Stock Summary-20240927.xlsx sukses\n",
      "Stock Summary-20240930.xlsx sukses\n",
      "Stock Summary-20241001.xlsx sukses\n",
      "Stock Summary-20241002.xlsx sukses\n",
      "Stock Summary-20241003.xlsx sukses\n",
      "Stock Summary-20241004.xlsx sukses\n",
      "Stock Summary-20241007.xlsx sukses\n",
      "Stock Summary-20241008.xlsx sukses\n",
      "Stock Summary-20241009.xlsx sukses\n",
      "Stock Summary-20241010.xlsx sukses\n",
      "Stock Summary-20241011.xlsx sukses\n",
      "download/tmp adalah direktori\n"
     ]
    }
   ],
   "source": [
    "\n",
    "for file_excel in os.listdir('download/') :\n",
    "  if os.path.isdir(f'download/{file_excel}'):\n",
    "    print(f'download/{file_excel} adalah direktori')\n",
    "    continue\n",
    "  pd.read_excel(\n",
    "                f'download/{file_excel}',\n",
    "                usecols=col,\n",
    "                ).to_sql('stock_summary',\n",
    "                          sqlite3.connect(f'stock_summary_{year}.sqlite'),\n",
    "                          if_exists='append',\n",
    "                          index=False,\n",
    "                          )\n",
    "  print(file_excel+' sukses')\n",
    "  # FILE TERAKHIR : Stock Summary-20241011.xlsx sukses"
   ]
  }
 ],
 "metadata": {
  "kernelspec": {
   "display_name": "base",
   "language": "python",
   "name": "python3"
  },
  "language_info": {
   "codemirror_mode": {
    "name": "ipython",
    "version": 3
   },
   "file_extension": ".py",
   "mimetype": "text/x-python",
   "name": "python",
   "nbconvert_exporter": "python",
   "pygments_lexer": "ipython3",
   "version": "3.12.5"
  }
 },
 "nbformat": 4,
 "nbformat_minor": 2
}
