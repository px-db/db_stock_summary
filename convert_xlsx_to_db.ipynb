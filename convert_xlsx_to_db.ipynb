{
 "cells": [
  {
   "cell_type": "code",
   "execution_count": 1,
   "metadata": {},
   "outputs": [],
   "source": [
    "import pandas as pd\n",
    "import sqlite3\n",
    "import os"
   ]
  },
  {
   "cell_type": "code",
   "execution_count": 2,
   "metadata": {},
   "outputs": [],
   "source": [
    "col=[c[1] for c in sqlite3\n",
    "     .connect('stock_summary_2024.sqlite')\n",
    "     .cursor()\n",
    "     .execute('PRAGMA table_info (stock_summary)')\n",
    "     .fetchall()]"
   ]
  },
  {
   "cell_type": "code",
   "execution_count": 6,
   "metadata": {},
   "outputs": [
    {
     "name": "stdout",
     "output_type": "stream",
     "text": [
      "download/tmp adalah direktori\n"
     ]
    }
   ],
   "source": [
    "year = '2024'\n",
    "for file_excel in os.listdir('download/') :\n",
    "  if os.path.isdir(f'download/{file_excel}'):\n",
    "    print(f'download/{file_excel} adalah direktori')\n",
    "    continue\n",
    "  pd.read_excel(\n",
    "                f'download/{file_excel}',\n",
    "                usecols=col,\n",
    "                ).to_sql('stock_summary',\n",
    "                          sqlite3.connect(f'stock_summary_{year}.sqlite'),\n",
    "                          if_exists='append',\n",
    "                          index=False,\n",
    "                          )\n",
    "  print(file_excel+' sukses')\n",
    "  # FILE TERAKHIR : Stock Summary-20240808.xlsx sukses"
   ]
  }
 ],
 "metadata": {
  "kernelspec": {
   "display_name": "base",
   "language": "python",
   "name": "python3"
  },
  "language_info": {
   "codemirror_mode": {
    "name": "ipython",
    "version": 3
   },
   "file_extension": ".py",
   "mimetype": "text/x-python",
   "name": "python",
   "nbconvert_exporter": "python",
   "pygments_lexer": "ipython3",
   "version": "3.9.18"
  }
 },
 "nbformat": 4,
 "nbformat_minor": 2
}
