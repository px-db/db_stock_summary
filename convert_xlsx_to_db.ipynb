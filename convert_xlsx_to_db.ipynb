{
 "cells": [
  {
   "cell_type": "code",
   "execution_count": 1,
   "metadata": {},
   "outputs": [],
   "source": [
    "import pandas as pd\n",
    "import sqlite3\n",
    "import os"
   ]
  },
  {
   "cell_type": "markdown",
   "metadata": {},
   "source": [
    "## Config"
   ]
  },
  {
   "cell_type": "code",
   "execution_count": 8,
   "metadata": {},
   "outputs": [],
   "source": [
    "year = '2025'"
   ]
  },
  {
   "cell_type": "code",
   "execution_count": 9,
   "metadata": {},
   "outputs": [],
   "source": [
    "col=[c[1] for c in sqlite3\n",
    "     .connect(f'stock_summary_{year}.sqlite')\n",
    "     .cursor()\n",
    "     .execute('PRAGMA table_info (stock_summary)')\n",
    "     .fetchall()]"
   ]
  },
  {
   "cell_type": "code",
   "execution_count": 10,
   "metadata": {},
   "outputs": [
    {
     "name": "stdout",
     "output_type": "stream",
     "text": [
      "['No', 'Stock Code', 'Remarks', 'Previous', 'Open Price', 'Last Trading Date', 'First Trade', 'High', 'Low', 'Close', 'Change', 'Volume', 'Value', 'Frequency', 'Index Individual', 'Offer', 'Offer Volume', 'Bid', 'Bid Volume', 'Listed Shares', 'Tradeble Shares', 'Weight For Index', 'Foreign Sell', 'Foreign Buy', 'Non Regular Volume', 'Non Regular Value', 'Non Regular Frequency']\n",
      "27\n"
     ]
    }
   ],
   "source": [
    "print(col)\n",
    "print(len(col))"
   ]
  },
  {
   "cell_type": "code",
   "execution_count": 11,
   "metadata": {},
   "outputs": [
    {
     "name": "stdout",
     "output_type": "stream",
     "text": [
      "Stock Summary-20250102.xlsx sukses\n",
      "Stock Summary-20250103.xlsx sukses\n",
      "Stock Summary-20250106.xlsx sukses\n",
      "Stock Summary-20250107.xlsx sukses\n",
      "Stock Summary-20250108.xlsx sukses\n",
      "Stock Summary-20250109.xlsx sukses\n",
      "Stock Summary-20250110.xlsx sukses\n",
      "Stock Summary-20250113.xlsx sukses\n",
      "Stock Summary-20250114.xlsx sukses\n",
      "Stock Summary-20250115.xlsx sukses\n",
      "Stock Summary-20250116.xlsx sukses\n",
      "Stock Summary-20250117.xlsx sukses\n",
      "download/tmp adalah direktori\n"
     ]
    }
   ],
   "source": [
    "\n",
    "for file_excel in os.listdir('download/') :\n",
    "  if os.path.isdir(f'download/{file_excel}'):\n",
    "    print(f'download/{file_excel} adalah direktori')\n",
    "    continue\n",
    "  pd.read_excel(\n",
    "                f'download/{file_excel}',\n",
    "                usecols=col,\n",
    "                ).to_sql('stock_summary',\n",
    "                          sqlite3.connect(f'stock_summary_{year}.sqlite'),\n",
    "                          if_exists='append',\n",
    "                          index=False,\n",
    "                          )\n",
    "  print(file_excel+' sukses')\n",
    "  # FILE TERAKHIR : Stock Summary-20250117.xlsx sukses"
   ]
  }
 ],
 "metadata": {
  "kernelspec": {
   "display_name": "base",
   "language": "python",
   "name": "python3"
  },
  "language_info": {
   "codemirror_mode": {
    "name": "ipython",
    "version": 3
   },
   "file_extension": ".py",
   "mimetype": "text/x-python",
   "name": "python",
   "nbconvert_exporter": "python",
   "pygments_lexer": "ipython3",
   "version": "3.12.5"
  }
 },
 "nbformat": 4,
 "nbformat_minor": 2
}
